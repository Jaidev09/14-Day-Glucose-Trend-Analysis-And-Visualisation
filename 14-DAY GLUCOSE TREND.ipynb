{
 "cells": [
  {
   "cell_type": "code",
   "execution_count": 9,
   "metadata": {},
   "outputs": [],
   "source": [
    "import pandas as pd\n",
    "import numpy as np"
   ]
  },
  {
   "cell_type": "code",
   "execution_count": 10,
   "metadata": {},
   "outputs": [],
   "source": [
    "# Step 1: Load the data\n",
    "file_path = r\"C:\\Users\\tomar\\Downloads\\WoW2024Wk49.csv\"  # Update this to the correct file path\n",
    "data = pd.read_csv(file_path)"
   ]
  },
  {
   "cell_type": "code",
   "execution_count": 11,
   "metadata": {},
   "outputs": [
    {
     "data": {
      "text/html": [
       "<div>\n",
       "<style scoped>\n",
       "    .dataframe tbody tr th:only-of-type {\n",
       "        vertical-align: middle;\n",
       "    }\n",
       "\n",
       "    .dataframe tbody tr th {\n",
       "        vertical-align: top;\n",
       "    }\n",
       "\n",
       "    .dataframe thead th {\n",
       "        text-align: right;\n",
       "    }\n",
       "</style>\n",
       "<table border=\"1\" class=\"dataframe\">\n",
       "  <thead>\n",
       "    <tr style=\"text-align: right;\">\n",
       "      <th></th>\n",
       "      <th>Device Timestamp</th>\n",
       "      <th>Glucose mg/dL</th>\n",
       "    </tr>\n",
       "  </thead>\n",
       "  <tbody>\n",
       "    <tr>\n",
       "      <th>0</th>\n",
       "      <td>11/15/2024 0:00</td>\n",
       "      <td>101</td>\n",
       "    </tr>\n",
       "    <tr>\n",
       "      <th>1</th>\n",
       "      <td>11/15/2024 0:05</td>\n",
       "      <td>101</td>\n",
       "    </tr>\n",
       "    <tr>\n",
       "      <th>2</th>\n",
       "      <td>11/15/2024 0:10</td>\n",
       "      <td>100</td>\n",
       "    </tr>\n",
       "    <tr>\n",
       "      <th>3</th>\n",
       "      <td>11/15/2024 0:15</td>\n",
       "      <td>99</td>\n",
       "    </tr>\n",
       "    <tr>\n",
       "      <th>4</th>\n",
       "      <td>11/15/2024 0:20</td>\n",
       "      <td>98</td>\n",
       "    </tr>\n",
       "  </tbody>\n",
       "</table>\n",
       "</div>"
      ],
      "text/plain": [
       "  Device Timestamp  Glucose mg/dL\n",
       "0  11/15/2024 0:00            101\n",
       "1  11/15/2024 0:05            101\n",
       "2  11/15/2024 0:10            100\n",
       "3  11/15/2024 0:15             99\n",
       "4  11/15/2024 0:20             98"
      ]
     },
     "execution_count": 11,
     "metadata": {},
     "output_type": "execute_result"
    }
   ],
   "source": [
    "data.head()"
   ]
  },
  {
   "cell_type": "code",
   "execution_count": 12,
   "metadata": {},
   "outputs": [],
   "source": [
    "# Step 2: Split the \"Device Timestamp\" into \"Date\" and \"Time\"\n",
    "data[['Date', 'Time']] = data['Device Timestamp'].str.split(' ', expand=True)\n"
   ]
  },
  {
   "cell_type": "code",
   "execution_count": 13,
   "metadata": {},
   "outputs": [
    {
     "data": {
      "text/html": [
       "<div>\n",
       "<style scoped>\n",
       "    .dataframe tbody tr th:only-of-type {\n",
       "        vertical-align: middle;\n",
       "    }\n",
       "\n",
       "    .dataframe tbody tr th {\n",
       "        vertical-align: top;\n",
       "    }\n",
       "\n",
       "    .dataframe thead th {\n",
       "        text-align: right;\n",
       "    }\n",
       "</style>\n",
       "<table border=\"1\" class=\"dataframe\">\n",
       "  <thead>\n",
       "    <tr style=\"text-align: right;\">\n",
       "      <th></th>\n",
       "      <th>Device Timestamp</th>\n",
       "      <th>Glucose mg/dL</th>\n",
       "      <th>Date</th>\n",
       "      <th>Time</th>\n",
       "    </tr>\n",
       "  </thead>\n",
       "  <tbody>\n",
       "    <tr>\n",
       "      <th>0</th>\n",
       "      <td>11/15/2024 0:00</td>\n",
       "      <td>101</td>\n",
       "      <td>11/15/2024</td>\n",
       "      <td>0:00</td>\n",
       "    </tr>\n",
       "    <tr>\n",
       "      <th>1</th>\n",
       "      <td>11/15/2024 0:05</td>\n",
       "      <td>101</td>\n",
       "      <td>11/15/2024</td>\n",
       "      <td>0:05</td>\n",
       "    </tr>\n",
       "    <tr>\n",
       "      <th>2</th>\n",
       "      <td>11/15/2024 0:10</td>\n",
       "      <td>100</td>\n",
       "      <td>11/15/2024</td>\n",
       "      <td>0:10</td>\n",
       "    </tr>\n",
       "    <tr>\n",
       "      <th>3</th>\n",
       "      <td>11/15/2024 0:15</td>\n",
       "      <td>99</td>\n",
       "      <td>11/15/2024</td>\n",
       "      <td>0:15</td>\n",
       "    </tr>\n",
       "    <tr>\n",
       "      <th>4</th>\n",
       "      <td>11/15/2024 0:20</td>\n",
       "      <td>98</td>\n",
       "      <td>11/15/2024</td>\n",
       "      <td>0:20</td>\n",
       "    </tr>\n",
       "  </tbody>\n",
       "</table>\n",
       "</div>"
      ],
      "text/plain": [
       "  Device Timestamp  Glucose mg/dL        Date  Time\n",
       "0  11/15/2024 0:00            101  11/15/2024  0:00\n",
       "1  11/15/2024 0:05            101  11/15/2024  0:05\n",
       "2  11/15/2024 0:10            100  11/15/2024  0:10\n",
       "3  11/15/2024 0:15             99  11/15/2024  0:15\n",
       "4  11/15/2024 0:20             98  11/15/2024  0:20"
      ]
     },
     "execution_count": 13,
     "metadata": {},
     "output_type": "execute_result"
    }
   ],
   "source": [
    "data.head()"
   ]
  },
  {
   "cell_type": "code",
   "execution_count": 14,
   "metadata": {},
   "outputs": [],
   "source": [
    "# Step 3: Group data by \"Time\" and calculate percentiles\n",
    "# Function to calculate percentiles\n",
    "def calculate_percentiles(group):\n",
    "    return pd.Series({\n",
    "        'P5': np.percentile(group, 5),\n",
    "        'P25': np.percentile(group, 25),\n",
    "        'P50': np.percentile(group, 50),\n",
    "        'P75': np.percentile(group, 75),\n",
    "        'P95': np.percentile(group, 95),\n",
    "    })"
   ]
  },
  {
   "cell_type": "code",
   "execution_count": 16,
   "metadata": {},
   "outputs": [],
   "source": [
    "# Apply grouping and calculate percentiles\n",
    "percentiles = data.groupby('Time')['Glucose mg/dL'].apply(calculate_percentiles).reset_index()\n",
    "percentiles = pd.concat([percentiles.drop(['Glucose mg/dL'], axis=1), percentiles['Glucose mg/dL'].apply(pd.Series)], axis=1)"
   ]
  },
  {
   "cell_type": "code",
   "execution_count": 17,
   "metadata": {},
   "outputs": [],
   "source": [
    "# Step 4: Save the processed data\n",
    "output_file = r\"C:\\Users\\tomar\\Downloads\\processed_glucose_data.csv\"  # Update this to the desired output path\n",
    "percentiles.to_csv(output_file, index=False)"
   ]
  },
  {
   "cell_type": "code",
   "execution_count": 19,
   "metadata": {},
   "outputs": [
    {
     "name": "stdout",
     "output_type": "stream",
     "text": [
      "Processed data saved to C:\\Users\\tomar\\Downloads\\processed_glucose_data.csv\n"
     ]
    }
   ],
   "source": [
    "print(f\"Processed data saved to {output_file}\")"
   ]
  }
 ],
 "metadata": {
  "kernelspec": {
   "display_name": "Python 3",
   "language": "python",
   "name": "python3"
  },
  "language_info": {
   "codemirror_mode": {
    "name": "ipython",
    "version": 3
   },
   "file_extension": ".py",
   "mimetype": "text/x-python",
   "name": "python",
   "nbconvert_exporter": "python",
   "pygments_lexer": "ipython3",
   "version": "3.13.0"
  }
 },
 "nbformat": 4,
 "nbformat_minor": 2
}
